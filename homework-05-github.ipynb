{
 "cells": [
  {
   "cell_type": "markdown",
   "id": "bd481192-4ed2-4ed0-9f0c-744df7f74e0b",
   "metadata": {},
   "source": [
    "## Shivangi Bishnoi\n",
    "###### Homework 5 (reorganised hw 4 for github)"
   ]
  },
  {
   "cell_type": "markdown",
   "id": "c0b92d0f-3b24-4a3c-86e7-8439f1eb3d24",
   "metadata": {},
   "source": [
    "#### Q1. URL to Documentation: https://www.weatherapi.com/docs/"
   ]
  },
  {
   "cell_type": "code",
   "execution_count": 3,
   "id": "cf83cc93-7384-445d-86dc-2240c504a92f",
   "metadata": {},
   "outputs": [
    {
     "data": {
      "text/plain": [
       "True"
      ]
     },
     "execution_count": 3,
     "metadata": {},
     "output_type": "execute_result"
    }
   ],
   "source": [
    "import requests\n",
    "\n",
    "import os\n",
    "from dotenv import load_dotenv\n",
    "load_dotenv()\n"
   ]
  },
  {
   "cell_type": "code",
   "execution_count": 10,
   "id": "8c0f54f1-6152-4067-8985-3bd9973bc810",
   "metadata": {},
   "outputs": [],
   "source": [
    "API_KEY = os.getenv('API_key')"
   ]
  },
  {
   "cell_type": "code",
   "execution_count": 2,
   "id": "95fce3af-fba4-4d47-ab59-bba3c01c3b3c",
   "metadata": {},
   "outputs": [],
   "source": [
    "!touch .env"
   ]
  },
  {
   "cell_type": "code",
   "execution_count": 11,
   "id": "9cd2a5f4-1329-4060-a950-672fc53d8124",
   "metadata": {},
   "outputs": [
    {
     "name": "stdout",
     "output_type": "stream",
     "text": [
      "{'location': {'name': 'Paris', 'region': 'Ile-de-France', 'country': 'France', 'lat': 48.87, 'lon': 2.33, 'tz_id': 'Europe/Paris', 'localtime_epoch': 1699923242, 'localtime': '2023-11-14 1:54'}, 'current': {'last_updated_epoch': 1699922700, 'last_updated': '2023-11-14 01:45', 'temp_c': 12.1, 'temp_f': 53.7, 'is_day': 0, 'condition': {'text': 'Partly cloudy', 'icon': '//cdn.weatherapi.com/weather/64x64/night/116.png', 'code': 1003}, 'wind_mph': 13.4, 'wind_kph': 21.6, 'wind_degree': 240, 'wind_dir': 'WSW', 'pressure_mb': 1011.0, 'pressure_in': 29.86, 'precip_mm': 0.0, 'precip_in': 0.0, 'humidity': 78, 'cloud': 34, 'feelslike_c': 9.9, 'feelslike_f': 49.7, 'vis_km': 10.0, 'vis_miles': 6.0, 'uv': 1.0, 'gust_mph': 19.9, 'gust_kph': 32.1, 'air_quality': {'co': 233.7, 'no2': 4.0, 'o3': 64.4, 'so2': 1.0, 'pm2_5': 1.9, 'pm10': 2.8, 'us-epa-index': 1, 'gb-defra-index': 1}}}\n"
     ]
    }
   ],
   "source": [
    "# 2\n",
    "\n",
    " # call from weatherAPI for Paris with AQI\n",
    "url_home = f\"http://api.weatherapi.com/v1/current.json?key={API_KEY}&q=Paris&aqi=yes\"\n",
    "response = requests.get(url_home)\n",
    "\n",
    "data = response.json()\n",
    "\n",
    "print(data)"
   ]
  },
  {
   "cell_type": "code",
   "execution_count": 5,
   "id": "cd1a641b-23ac-49f0-80d2-5349cac1e306",
   "metadata": {},
   "outputs": [
    {
     "name": "stdout",
     "output_type": "stream",
     "text": [
      "France\n"
     ]
    }
   ],
   "source": [
    "# 3\n",
    "\n",
    "print(data['location']['country'])"
   ]
  },
  {
   "cell_type": "code",
   "execution_count": 15,
   "id": "61679491-e1f0-4bd1-8af4-1325c034cae6",
   "metadata": {},
   "outputs": [
    {
     "name": "stdout",
     "output_type": "stream",
     "text": [
      "It currently feels 2.40 degrees fahrenheit colder in France than the current temperature.\n"
     ]
    }
   ],
   "source": [
    "# 4\n",
    "\n",
    "# diff between actual temp (F) and feels like (F)\n",
    "\n",
    "diff = data['current']['temp_f'] - data['current']['feelslike_f']\n",
    "\n",
    "if diff > 0 :\n",
    "    print(f\"It currently feels {diff:.2f} degrees fahrenheit colder in {data['location']['country']} than the current temperature.\")\n",
    "elif diff == 0 :\n",
    "    print(f\"It feels like the current temperature\")\n",
    "else :\n",
    "    print(f\"It currently feels {-diff:.2f} degrees fahrenheit warmer in {data['location']['country']} than the current temperature\")\n",
    "\n"
   ]
  },
  {
   "cell_type": "code",
   "execution_count": 18,
   "id": "081c8d0d-2f08-4e68-a8e0-822cfb8b7586",
   "metadata": {},
   "outputs": [
    {
     "name": "stdout",
     "output_type": "stream",
     "text": [
      "The current temperature at London Heathrow Airport is 51.8 degrees fahrenheit\n"
     ]
    }
   ],
   "source": [
    "# 5\n",
    "\n",
    "url_lhr = 'http://api.weatherapi.com/v1/current.json?key=98c2ea21e6e34db3abc145149231111&q=LHR&aqi=yes'\n",
    "response_lhr = requests.get(url_lhr)\n",
    "\n",
    "data_lhr = response_lhr.json()\n",
    "print(f\"The current temperature at {data_lhr['location']['name']} is {data_lhr['current']['temp_f']} degrees fahrenheit\")"
   ]
  },
  {
   "cell_type": "code",
   "execution_count": 19,
   "id": "f6872b50-8780-4d0d-af28-136853cce513",
   "metadata": {},
   "outputs": [],
   "source": [
    "# 6\n",
    "\n",
    "url_lhr_3d = 'http://api.weatherapi.com/v1/forecast.json?key=98c2ea21e6e34db3abc145149231111&q=LHR&days=3&aqi=no&alerts=no'"
   ]
  },
  {
   "cell_type": "code",
   "execution_count": 23,
   "id": "dfe77279-4acf-46e3-81b9-f4d0c86fa3bb",
   "metadata": {},
   "outputs": [
    {
     "name": "stdout",
     "output_type": "stream",
     "text": [
      "2023-11-11\n",
      "2023-11-12\n",
      "2023-11-13\n"
     ]
    }
   ],
   "source": [
    "# 7\n",
    "\n",
    "response_lhr_3d = requests.get(url_lhr_3d)\n",
    "data_lhr_3d = response_lhr_3d.json()\n",
    "\n",
    "for day in data_lhr_3d['forecast']['forecastday'] :\n",
    "    print(day['date'])"
   ]
  },
  {
   "cell_type": "code",
   "execution_count": 25,
   "id": "bad2648c-826a-4a97-9c59-78478fcc19fa",
   "metadata": {},
   "outputs": [
    {
     "name": "stdout",
     "output_type": "stream",
     "text": [
      "The maximum temperature on 2023-11-11 is 50.0 degrees fahrenheit\n",
      "The maximum temperature on 2023-11-12 is 49.9 degrees fahrenheit\n",
      "The maximum temperature on 2023-11-13 is 58.1 degrees fahrenheit\n"
     ]
    }
   ],
   "source": [
    "# 8\n",
    "\n",
    "for theday in data_lhr_3d['forecast']['forecastday'] :\n",
    "    print(f\"The maximum temperature on {theday['date']} is {theday['day']['maxtemp_f']} degrees fahrenheit\")\n"
   ]
  },
  {
   "cell_type": "code",
   "execution_count": 42,
   "id": "f6cea541-f500-4b59-95f2-9e54fedcaf02",
   "metadata": {},
   "outputs": [
    {
     "name": "stdout",
     "output_type": "stream",
     "text": [
      "The maximum temperature of 58.1 degrees fahrenheit will be on 2023-11-13\n"
     ]
    }
   ],
   "source": [
    "# 9\n",
    "\n",
    "# list comprehension to get the max of the maximum temperatures\n",
    "maxtemp = [theday['day']['maxtemp_f']for theday in data_lhr_3d['forecast']['forecastday']]\n",
    "max_value = max(maxtemp)\n",
    "\n",
    "# getting the hottest day for the max value\n",
    "for theday in data_lhr_3d['forecast']['forecastday'] :\n",
    "    if theday['day']['maxtemp_f'] == max_value :\n",
    "        print(f\"The maximum temperature of {max_value} degrees fahrenheit will be on {theday['date']}\")\n",
    "\n"
   ]
  },
  {
   "cell_type": "code",
   "execution_count": null,
   "id": "726a0e24-9245-47bd-a429-72a111aa59da",
   "metadata": {},
   "outputs": [],
   "source": []
  }
 ],
 "metadata": {
  "kernelspec": {
   "display_name": "Python 3 (ipykernel)",
   "language": "python",
   "name": "python3"
  },
  "language_info": {
   "codemirror_mode": {
    "name": "ipython",
    "version": 3
   },
   "file_extension": ".py",
   "mimetype": "text/x-python",
   "name": "python",
   "nbconvert_exporter": "python",
   "pygments_lexer": "ipython3",
   "version": "3.11.6"
  }
 },
 "nbformat": 4,
 "nbformat_minor": 5
}
